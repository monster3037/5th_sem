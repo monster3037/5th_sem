{
 "cells": [
  {
   "cell_type": "markdown",
   "id": "d1d18c4d",
   "metadata": {},
   "source": [
    "#  Experiment 10\n",
    "## Dhruv Singhal || 500075346 || R177219074 || AIML || Sem5\n",
    "## Least Squares Method ( Direct and Multiple Input)\n",
    "#### Importing required Libraries"
   ]
  },
  {
   "cell_type": "code",
   "execution_count": 1,
   "id": "e30b12d7",
   "metadata": {},
   "outputs": [],
   "source": [
    "import numpy as np"
   ]
  },
  {
   "cell_type": "markdown",
   "id": "4298585d",
   "metadata": {},
   "source": [
    "#### Data Creation\n",
    "We create a dataset using numpy. we create random values in both variables X and y. X hold random values of shape 100,1 meaning there are 100 rows and 1 column. In y we multiply 3 and add 4 to the random values of X and again generate random values in the shape 1000,1 where the values are in standard normal distribution."
   ]
  },
  {
   "cell_type": "code",
   "execution_count": 2,
   "id": "2ac1c263",
   "metadata": {},
   "outputs": [],
   "source": [
    "x1 = np. random. random( (100, 1))\n",
    "y= 4 + 3*x1 + np. random. randn(100, 1)\n",
    "x0 = np. ones ( (100, 1))\n",
    "X = np. concatenate( (x0, x1), axis = 1)"
   ]
  },
  {
   "cell_type": "markdown",
   "id": "57a9fbf1",
   "metadata": {},
   "source": [
    "### Data Preprocessing &  Visualization\n",
    "in the x0 variable we take a array of shape 100,1 with only 1 values stored. Now in the X variable we concatenate x0 which hold the array of ones and the random values generated previously along the single axis/column present in the dataset. After this we print the shape of both the X data and y data."
   ]
  },
  {
   "cell_type": "markdown",
   "id": "a355f294",
   "metadata": {},
   "source": [
    "### Model Building Single Input\n",
    "Here we use np.linalg.inv to inverse our matrix X. the inverse of X is such that if multiplied by the original X gives us an identity matrix. We store this in temp1. In the variable temp2 we store the dot product of X and temp1. Similarly in w we store the dot product of t2 and the y dataset. Lastly we print w. We do this to directly find the least squares."
   ]
  },
  {
   "cell_type": "code",
   "execution_count": 3,
   "id": "a1f7ac2c",
   "metadata": {},
   "outputs": [
    {
     "name": "stdout",
     "output_type": "stream",
     "text": [
      "------------------------------\n",
      "Least squares method(Direct) Single Input\n",
      "------------------------------\n",
      "W0 [4.18332282]\n",
      "W1 [2.58556085]\n"
     ]
    }
   ],
   "source": [
    "temp1 = np.linalg.inv(np.dot (X.T, X))\n",
    "temp2 = np.dot(temp1,X.T)\n",
    "w = np. dot(temp2, y)\n",
    "print(\"------------------------------\")\n",
    "print(\"Least squares method(Direct) Single Input\")\n",
    "print(\"------------------------------\")\n",
    "print(\"W0\",w[0])\n",
    "print(\"W1\",w[1])"
   ]
  },
  {
   "cell_type": "markdown",
   "id": "9ee50b9c",
   "metadata": {},
   "source": [
    "### Model building Multiple Input\n"
   ]
  },
  {
   "cell_type": "code",
   "execution_count": 4,
   "id": "3edb3c55",
   "metadata": {},
   "outputs": [
    {
     "name": "stdout",
     "output_type": "stream",
     "text": [
      "------------------------------\n",
      "Least squares method(Direct) Multiple Input\n",
      "------------------------------\n",
      "W1's are:\n",
      " [[4. 5. 8.]\n",
      " [8. 5. 7.]\n",
      " [7. 6. 3.]\n",
      " [1. 3. 8.]]\n"
     ]
    }
   ],
   "source": [
    "import numpy as np\n",
    "x1 = np.random. random( (100, 3))\n",
    "X=np.c_[np.ones((100,1)),x1]\n",
    "a=[[4,5,8],\n",
    "   [8,5,7],\n",
    "   [7,6,3],\n",
    "   [1,3,8]]\n",
    "W=np.array(a)\n",
    "y1=np.dot(X,W)\n",
    "temp1 = np.linalg.inv(np.dot (X.T, X))\n",
    "temp2 = np.dot(temp1,X.T)\n",
    "w = np. dot(temp2, y1)\n",
    "print(\"------------------------------\")\n",
    "print(\"Least squares method(Direct) Multiple Input\")\n",
    "print(\"------------------------------\")\n",
    "print(\"W1's are:\\n\" ,w)"
   ]
  },
  {
   "cell_type": "markdown",
   "id": "0ef07da0",
   "metadata": {},
   "source": [
    "### Multiple Input:\n",
    "Now we apply the least squares on 4 features. Our 4 features are y1, y2, y3, y4. Each one has a different dataset of same shape i.e 100,1 while the X_ data has 100,3 shape. After that in xwb, X_ is concatenated with np.ones with size 100,1. After that in W_ we multiply the transpose  of Xwb with Xwb. in tp1 we store the inverse of W_ and  in tp2 we store the dot product of tp1 and transpose of Xwb and after that in W1 store the dot product of tp2 and y1 and similarly in W2 we store dot of tp2 and y2 and so on  "
   ]
  },
  {
   "cell_type": "code",
   "execution_count": 5,
   "id": "0ad49d2a",
   "metadata": {},
   "outputs": [
    {
     "name": "stdout",
     "output_type": "stream",
     "text": [
      "------------Modified------------------\n",
      "Least squares method(Direct) Multiple Input\n",
      "------------------------------\n",
      "W1:\n",
      " [[ 3.58946499  3.58946499  3.58946499]\n",
      " [ 3.53007295  0.53007295  0.53007295]\n",
      " [ 0.7360797   3.7360797   0.7360797 ]\n",
      " [-0.22140637 -0.22140637  2.77859363]]\n",
      "W2:\n",
      " [[ 5.00632769  5.00632769  5.00632769]\n",
      " [ 1.55928339 -0.44071661 -0.44071661]\n",
      " [ 0.08956033  2.08956033  0.08956033]\n",
      " [ 0.46577766  0.46577766  2.46577766]]\n",
      "W3:\n",
      " [[ 3.07157824  3.07157824  3.07157824]\n",
      " [ 5.97448906 -0.02551094 -0.02551094]\n",
      " [ 0.53028384  6.53028384  0.53028384]\n",
      " [-0.29725616 -0.29725616  5.70274384]]\n",
      "W4:\n",
      " [[6.54317499 6.54317499 6.54317499]\n",
      " [9.34325755 0.34325755 0.34325755]\n",
      " [0.43786949 9.43786949 0.43786949]\n",
      " [0.03674298 0.03674298 9.03674298]]\n"
     ]
    }
   ],
   "source": [
    "X_ = np.random. random( (100, 3))\n",
    "y1= 4 + 3*X_ + np. random. randn(100, 1)\n",
    "y2= 5 + 2*X_ + np. random. randn(100, 1)\n",
    "y3= 3 + 6*X_ + np. random. randn(100, 1)\n",
    "y4= 7 + 9*X_ + np. random. randn(100, 1)\n",
    "Xwb=np.c_[np.ones((100,1)),X_]\n",
    "W_=Xwb.T.dot(Xwb)\n",
    "tp1 = np.linalg.inv(np.dot (Xwb.T, Xwb))\n",
    "tp2 = np.dot(tp1,Xwb.T)\n",
    "W1 = np. dot(tp2, y1)\n",
    "W2 = np. dot(tp2, y2)\n",
    "W3 = np. dot(tp2, y3)\n",
    "W4 = np. dot(tp2, y4)\n",
    "\n",
    "\n",
    "print(\"------------Modified------------------\")\n",
    "print(\"Least squares method(Direct) Multiple Input\")\n",
    "print(\"------------------------------\")\n",
    "print(\"W1:\\n\",W1)\n",
    "print(\"W2:\\n\",W2)\n",
    "print(\"W3:\\n\",W3)\n",
    "print(\"W4:\\n\",W4)"
   ]
  },
  {
   "cell_type": "code",
   "execution_count": 6,
   "id": "e17ebbc3",
   "metadata": {},
   "outputs": [
    {
     "name": "stdout",
     "output_type": "stream",
     "text": [
      "[[ 3.58946499  3.58946499  3.58946499]\n",
      " [ 3.53007295  0.53007295  0.53007295]\n",
      " [ 0.7360797   3.7360797   0.7360797 ]\n",
      " [-0.22140637 -0.22140637  2.77859363]\n",
      " [ 5.00632769  5.00632769  5.00632769]\n",
      " [ 1.55928339 -0.44071661 -0.44071661]\n",
      " [ 0.08956033  2.08956033  0.08956033]\n",
      " [ 0.46577766  0.46577766  2.46577766]\n",
      " [ 3.07157824  3.07157824  3.07157824]\n",
      " [ 5.97448906 -0.02551094 -0.02551094]\n",
      " [ 0.53028384  6.53028384  0.53028384]\n",
      " [-0.29725616 -0.29725616  5.70274384]\n",
      " [ 6.54317499  6.54317499  6.54317499]\n",
      " [ 9.34325755  0.34325755  0.34325755]\n",
      " [ 0.43786949  9.43786949  0.43786949]\n",
      " [ 0.03674298  0.03674298  9.03674298]]\n"
     ]
    }
   ],
   "source": [
    "print(np.concatenate((W1,W2,W3,W4)))"
   ]
  },
  {
   "cell_type": "code",
   "execution_count": null,
   "id": "044f6b98",
   "metadata": {},
   "outputs": [],
   "source": []
  }
 ],
 "metadata": {
  "kernelspec": {
   "display_name": "Python 3 (ipykernel)",
   "language": "python",
   "name": "python3"
  },
  "language_info": {
   "codemirror_mode": {
    "name": "ipython",
    "version": 3
   },
   "file_extension": ".py",
   "mimetype": "text/x-python",
   "name": "python",
   "nbconvert_exporter": "python",
   "pygments_lexer": "ipython3",
   "version": "3.7.6"
  }
 },
 "nbformat": 4,
 "nbformat_minor": 5
}
